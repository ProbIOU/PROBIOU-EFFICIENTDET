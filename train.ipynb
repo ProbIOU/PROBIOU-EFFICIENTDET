{
 "cells": [
  {
   "cell_type": "markdown",
   "metadata": {},
   "source": [
    "# Training ProbIoU"
   ]
  },
  {
   "cell_type": "code",
   "execution_count": null,
   "metadata": {},
   "outputs": [],
   "source": [
    "# train with freeze backbone\n",
    "!python train.py \\\n",
    "--snapshot checkpoints/voc_piou_l3l1/pascal.h5 \\\n",
    "--loss probioul2 \\\n",
    "--regression_weight 10 \\\n",
    "--phi 0 \\\n",
    "--gpu 0 \\\n",
    "--epochs 50 \\\n",
    "--no-evaluation \\\n",
    "--random-transform \\\n",
    "--compute-val-loss \\\n",
    "--lr 1e-3 \\\n",
    "--batch-size 12 \\\n",
    "pascal /datasets/dataset/VOCdevkit/VOC2007"
   ]
  },
  {
   "cell_type": "code",
   "execution_count": null,
   "metadata": {},
   "outputs": [],
   "source": [
    "# train all layers\n",
    "!python train.py \\\n",
    "--snapshot checkpoints/voc_piou_l3l1/pascal.h5 \\\n",
    "--snapshot-path checkpoints/voc_piou_l3l1/finetuned \\\n",
    "--loss probioul1 \\\n",
    "--regression_weight 2 \\\n",
    "--phi 0 \\\n",
    "--gpu 0 \\\n",
    "--epochs 50 \\\n",
    "--no-evaluation \\\n",
    "--random-transform \\\n",
    "--compute-val-loss \\\n",
    "--lr 1e-3 \\\n",
    "--batch-size 12 \\\n",
    "pascal /datasets/dataset/VOCdevkit/VOC2007"
   ]
  }
 ],
 "metadata": {
  "kernelspec": {
   "display_name": "Python 3",
   "language": "python",
   "name": "python3"
  },
  "language_info": {
   "codemirror_mode": {
    "name": "ipython",
    "version": 3
   },
   "file_extension": ".py",
   "mimetype": "text/x-python",
   "name": "python",
   "nbconvert_exporter": "python",
   "pygments_lexer": "ipython3",
   "version": "3.7.7"
  }
 },
 "nbformat": 4,
 "nbformat_minor": 4
}
