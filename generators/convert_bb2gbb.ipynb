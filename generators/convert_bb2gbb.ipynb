{
 "cells": [
  {
   "cell_type": "code",
   "execution_count": 1,
   "metadata": {},
   "outputs": [
    {
     "name": "stderr",
     "output_type": "stream",
     "text": [
      "/usr/local/lib/python3.6/dist-packages/sklearn/utils/deprecation.py:143: FutureWarning: The sklearn.datasets.samples_generator module is  deprecated in version 0.22 and will be removed in version 0.24. The corresponding classes / functions should instead be imported from sklearn.datasets. Anything that cannot be imported from sklearn.datasets is now part of the private API.\n",
      "  warnings.warn(message, FutureWarning)\n"
     ]
    }
   ],
   "source": [
    "import numpy as np\n",
    "from tqdm import tqdm\n",
    "from pycocotools.coco import COCO\n",
    "from get_obb_gbb_from_coco import process_annotations"
   ]
  },
  {
   "cell_type": "code",
   "execution_count": 2,
   "metadata": {},
   "outputs": [
    {
     "name": "stdout",
     "output_type": "stream",
     "text": [
      "loading annotations into memory...\n",
      "Done (t=13.09s)\n",
      "creating index...\n",
      "index created!\n"
     ]
    }
   ],
   "source": [
    "ann_file = '/datasets/dataset/coco2017/annotations/instances_train2017.json'\n",
    "coco = COCO(ann_file)\n",
    "count = 0"
   ]
  },
  {
   "cell_type": "code",
   "execution_count": 3,
   "metadata": {},
   "outputs": [],
   "source": [
    "voc_cats = [\n",
    "    'airplane', 'bicycle', 'bird', 'boat', 'bottle', 'bus', 'car', 'cat', 'chair', 'cow', 'dining table',\n",
    "    'dog', 'horse', 'motorcycle', 'person', 'potted plant', 'sheep', 'sofa', 'train', 'tv'\n",
    "]\n",
    "catIds = coco.getCatIds(catNms=voc_cats)\n",
    "\n",
    "name_id = dict(zip(catIds, voc_cats))"
   ]
  },
  {
   "cell_type": "code",
   "execution_count": 5,
   "metadata": {},
   "outputs": [
    {
     "name": "stderr",
     "output_type": "stream",
     "text": [
      "100%|██████████| 118287/118287 [36:26<00:00, 54.09it/s] \n"
     ]
    }
   ],
   "source": [
    "with open(ann_file.replace('.json', '_gbb.csv'), 'w') as file:\n",
    "    \n",
    "    file.write('file_name,label,x_mean,y_mean,cov00,cov11,cov01\\n')\n",
    "    \n",
    "    for index in tqdm(coco.imgs):\n",
    "        count += 1\n",
    "        img_metadata = coco.loadImgs(index)[0]\n",
    "        cocotarget   = coco.loadAnns(coco.getAnnIds(imgIds=index))\n",
    "\n",
    "        obb, gbb, labels = process_annotations(cocotarget, img_metadata['height'], img_metadata['width'], showResults = False)\n",
    "        \n",
    "        if not all([l in catIds for l in labels]):\n",
    "            continue\n",
    "        \n",
    "        for g,l in zip(gbb,labels):\n",
    "            file.write(f\"{img_metadata['file_name']},{name_id[l]},{g[0]},{g[1]},{g[2]},{g[3]},{g[4]}\\n\")"
   ]
  },
  {
   "cell_type": "code",
   "execution_count": 6,
   "metadata": {},
   "outputs": [
    {
     "name": "stdout",
     "output_type": "stream",
     "text": [
      "loading annotations into memory...\n",
      "Done (t=0.44s)\n",
      "creating index...\n",
      "index created!\n"
     ]
    }
   ],
   "source": [
    "ann_file = '/datasets/dataset/coco2017/annotations/instances_val2017.json'\n",
    "coco = COCO(ann_file)\n",
    "count = 0"
   ]
  },
  {
   "cell_type": "code",
   "execution_count": 7,
   "metadata": {},
   "outputs": [
    {
     "name": "stderr",
     "output_type": "stream",
     "text": [
      "100%|██████████| 5000/5000 [01:34<00:00, 53.12it/s]\n"
     ]
    }
   ],
   "source": [
    "with open(ann_file.replace('.json', '_gbb.csv'), 'w') as file:\n",
    "    \n",
    "    file.write('file_name,label,x_mean,y_mean,cov00,cov11,cov01\\n')\n",
    "    \n",
    "    for index in tqdm(coco.imgs):\n",
    "        count += 1\n",
    "        img_metadata = coco.loadImgs(index)[0]\n",
    "        cocotarget   = coco.loadAnns(coco.getAnnIds(imgIds=index))\n",
    "\n",
    "        obb, gbb, labels = process_annotations(cocotarget, img_metadata['height'], img_metadata['width'], showResults = False)\n",
    "        \n",
    "        if not all([l in catIds for l in labels]):\n",
    "            continue\n",
    "        \n",
    "        for g,l in zip(gbb,labels):\n",
    "            file.write(f\"{img_metadata['file_name']},{name_id[l]},{g[0]},{g[1]},{g[2]},{g[3]},{g[4]}\\n\")"
   ]
  },
  {
   "cell_type": "code",
   "execution_count": 9,
   "metadata": {},
   "outputs": [],
   "source": [
    "import pandas as pd"
   ]
  },
  {
   "cell_type": "code",
   "execution_count": 13,
   "metadata": {},
   "outputs": [
    {
     "data": {
      "text/html": [
       "<div>\n",
       "<style scoped>\n",
       "    .dataframe tbody tr th:only-of-type {\n",
       "        vertical-align: middle;\n",
       "    }\n",
       "\n",
       "    .dataframe tbody tr th {\n",
       "        vertical-align: top;\n",
       "    }\n",
       "\n",
       "    .dataframe thead th {\n",
       "        text-align: right;\n",
       "    }\n",
       "</style>\n",
       "<table border=\"1\" class=\"dataframe\">\n",
       "  <thead>\n",
       "    <tr style=\"text-align: right;\">\n",
       "      <th></th>\n",
       "      <th>file_name</th>\n",
       "      <th>label</th>\n",
       "      <th>x_mean</th>\n",
       "      <th>y_mean</th>\n",
       "      <th>cov00</th>\n",
       "      <th>cov11</th>\n",
       "      <th>cov01</th>\n",
       "    </tr>\n",
       "  </thead>\n",
       "  <tbody>\n",
       "    <tr>\n",
       "      <th>0</th>\n",
       "      <td>000000391895.jpg</td>\n",
       "      <td>boat</td>\n",
       "      <td>416.0</td>\n",
       "      <td>240.0</td>\n",
       "      <td>2725.663523</td>\n",
       "      <td>425.374931</td>\n",
       "      <td>-71.894019</td>\n",
       "    </tr>\n",
       "    <tr>\n",
       "      <th>1</th>\n",
       "      <td>000000391895.jpg</td>\n",
       "      <td>airplane</td>\n",
       "      <td>482.0</td>\n",
       "      <td>193.0</td>\n",
       "      <td>142.108975</td>\n",
       "      <td>50.597579</td>\n",
       "      <td>-21.737062</td>\n",
       "    </tr>\n",
       "    <tr>\n",
       "      <th>2</th>\n",
       "      <td>000000391895.jpg</td>\n",
       "      <td>bicycle</td>\n",
       "      <td>498.0</td>\n",
       "      <td>201.0</td>\n",
       "      <td>84.194703</td>\n",
       "      <td>44.438205</td>\n",
       "      <td>-28.068038</td>\n",
       "    </tr>\n",
       "    <tr>\n",
       "      <th>3</th>\n",
       "      <td>000000204805.jpg</td>\n",
       "      <td>cat</td>\n",
       "      <td>204.0</td>\n",
       "      <td>203.0</td>\n",
       "      <td>1804.455975</td>\n",
       "      <td>16008.309572</td>\n",
       "      <td>1950.677239</td>\n",
       "    </tr>\n",
       "    <tr>\n",
       "      <th>4</th>\n",
       "      <td>000000204805.jpg</td>\n",
       "      <td>airplane</td>\n",
       "      <td>417.0</td>\n",
       "      <td>188.0</td>\n",
       "      <td>63.865470</td>\n",
       "      <td>45.957851</td>\n",
       "      <td>2.849276</td>\n",
       "    </tr>\n",
       "    <tr>\n",
       "      <th>...</th>\n",
       "      <td>...</td>\n",
       "      <td>...</td>\n",
       "      <td>...</td>\n",
       "      <td>...</td>\n",
       "      <td>...</td>\n",
       "      <td>...</td>\n",
       "      <td>...</td>\n",
       "    </tr>\n",
       "    <tr>\n",
       "      <th>99013</th>\n",
       "      <td>000000019181.jpg</td>\n",
       "      <td>sheep</td>\n",
       "      <td>48.0</td>\n",
       "      <td>462.0</td>\n",
       "      <td>243.401456</td>\n",
       "      <td>155.631169</td>\n",
       "      <td>-140.680504</td>\n",
       "    </tr>\n",
       "    <tr>\n",
       "      <th>99014</th>\n",
       "      <td>000000226055.jpg</td>\n",
       "      <td>airplane</td>\n",
       "      <td>498.0</td>\n",
       "      <td>272.0</td>\n",
       "      <td>6304.851984</td>\n",
       "      <td>6151.795556</td>\n",
       "      <td>-1190.665289</td>\n",
       "    </tr>\n",
       "    <tr>\n",
       "      <th>99015</th>\n",
       "      <td>000000180682.jpg</td>\n",
       "      <td>person</td>\n",
       "      <td>414.0</td>\n",
       "      <td>368.0</td>\n",
       "      <td>919.671157</td>\n",
       "      <td>126.878532</td>\n",
       "      <td>-36.145204</td>\n",
       "    </tr>\n",
       "    <tr>\n",
       "      <th>99016</th>\n",
       "      <td>000000180682.jpg</td>\n",
       "      <td>person</td>\n",
       "      <td>454.0</td>\n",
       "      <td>343.0</td>\n",
       "      <td>2210.765503</td>\n",
       "      <td>169.887779</td>\n",
       "      <td>11.958766</td>\n",
       "    </tr>\n",
       "    <tr>\n",
       "      <th>99017</th>\n",
       "      <td>000000180682.jpg</td>\n",
       "      <td>airplane</td>\n",
       "      <td>200.0</td>\n",
       "      <td>267.0</td>\n",
       "      <td>30776.813251</td>\n",
       "      <td>9917.053426</td>\n",
       "      <td>1909.908896</td>\n",
       "    </tr>\n",
       "  </tbody>\n",
       "</table>\n",
       "<p>99018 rows × 7 columns</p>\n",
       "</div>"
      ],
      "text/plain": [
       "              file_name     label  x_mean  y_mean         cov00         cov11  \\\n",
       "0      000000391895.jpg      boat   416.0   240.0   2725.663523    425.374931   \n",
       "1      000000391895.jpg  airplane   482.0   193.0    142.108975     50.597579   \n",
       "2      000000391895.jpg   bicycle   498.0   201.0     84.194703     44.438205   \n",
       "3      000000204805.jpg       cat   204.0   203.0   1804.455975  16008.309572   \n",
       "4      000000204805.jpg  airplane   417.0   188.0     63.865470     45.957851   \n",
       "...                 ...       ...     ...     ...           ...           ...   \n",
       "99013  000000019181.jpg     sheep    48.0   462.0    243.401456    155.631169   \n",
       "99014  000000226055.jpg  airplane   498.0   272.0   6304.851984   6151.795556   \n",
       "99015  000000180682.jpg    person   414.0   368.0    919.671157    126.878532   \n",
       "99016  000000180682.jpg    person   454.0   343.0   2210.765503    169.887779   \n",
       "99017  000000180682.jpg  airplane   200.0   267.0  30776.813251   9917.053426   \n",
       "\n",
       "             cov01  \n",
       "0       -71.894019  \n",
       "1       -21.737062  \n",
       "2       -28.068038  \n",
       "3      1950.677239  \n",
       "4         2.849276  \n",
       "...            ...  \n",
       "99013  -140.680504  \n",
       "99014 -1190.665289  \n",
       "99015   -36.145204  \n",
       "99016    11.958766  \n",
       "99017  1909.908896  \n",
       "\n",
       "[99018 rows x 7 columns]"
      ]
     },
     "execution_count": 13,
     "metadata": {},
     "output_type": "execute_result"
    }
   ],
   "source": [
    "df = pd.read_csv('/datasets/dataset/coco2017/annotations/instances_train2017_gbb.csv')\n",
    "df"
   ]
  },
  {
   "cell_type": "code",
   "execution_count": 4,
   "metadata": {},
   "outputs": [],
   "source": [
    "voc_ids = dict(zip(voc_cats, range(1,len(voc_cats)+1)))\n",
    "\n",
    "with open('/datasets/dataset/coco2017/annotations/classes_gbb.csv', 'w') as file:\n",
    "    \n",
    "    file.write('name,id\\n')\n",
    "    \n",
    "    for name,id in voc_ids.items():\n",
    "        file.write(f'{name},{id}\\n')"
   ]
  },
  {
   "cell_type": "code",
   "execution_count": null,
   "metadata": {},
   "outputs": [],
   "source": []
  }
 ],
 "metadata": {
  "kernelspec": {
   "display_name": "Python 3",
   "language": "python",
   "name": "python3"
  },
  "language_info": {
   "codemirror_mode": {
    "name": "ipython",
    "version": 3
   },
   "file_extension": ".py",
   "mimetype": "text/x-python",
   "name": "python",
   "nbconvert_exporter": "python",
   "pygments_lexer": "ipython3",
   "version": "3.6.9"
  }
 },
 "nbformat": 4,
 "nbformat_minor": 4
}
